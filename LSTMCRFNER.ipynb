{
 "cells": [
  {
   "cell_type": "code",
   "execution_count": 1,
   "metadata": {
    "scrolled": true
   },
   "outputs": [
    {
     "name": "stderr",
     "output_type": "stream",
     "text": [
      "Using TensorFlow backend.\n",
      "/home/felipe/.local/share/virtualenvs/w266_final_project-K7oLnwuw/lib/python3.6/site-packages/tensorflow/python/framework/dtypes.py:516: FutureWarning: Passing (type, 1) or '1type' as a synonym of type is deprecated; in a future version of numpy, it will be understood as (type, (1,)) / '(1,)type'.\n",
      "  _np_qint8 = np.dtype([(\"qint8\", np.int8, 1)])\n",
      "/home/felipe/.local/share/virtualenvs/w266_final_project-K7oLnwuw/lib/python3.6/site-packages/tensorflow/python/framework/dtypes.py:517: FutureWarning: Passing (type, 1) or '1type' as a synonym of type is deprecated; in a future version of numpy, it will be understood as (type, (1,)) / '(1,)type'.\n",
      "  _np_quint8 = np.dtype([(\"quint8\", np.uint8, 1)])\n",
      "/home/felipe/.local/share/virtualenvs/w266_final_project-K7oLnwuw/lib/python3.6/site-packages/tensorflow/python/framework/dtypes.py:518: FutureWarning: Passing (type, 1) or '1type' as a synonym of type is deprecated; in a future version of numpy, it will be understood as (type, (1,)) / '(1,)type'.\n",
      "  _np_qint16 = np.dtype([(\"qint16\", np.int16, 1)])\n",
      "/home/felipe/.local/share/virtualenvs/w266_final_project-K7oLnwuw/lib/python3.6/site-packages/tensorflow/python/framework/dtypes.py:519: FutureWarning: Passing (type, 1) or '1type' as a synonym of type is deprecated; in a future version of numpy, it will be understood as (type, (1,)) / '(1,)type'.\n",
      "  _np_quint16 = np.dtype([(\"quint16\", np.uint16, 1)])\n",
      "/home/felipe/.local/share/virtualenvs/w266_final_project-K7oLnwuw/lib/python3.6/site-packages/tensorflow/python/framework/dtypes.py:520: FutureWarning: Passing (type, 1) or '1type' as a synonym of type is deprecated; in a future version of numpy, it will be understood as (type, (1,)) / '(1,)type'.\n",
      "  _np_qint32 = np.dtype([(\"qint32\", np.int32, 1)])\n",
      "/home/felipe/.local/share/virtualenvs/w266_final_project-K7oLnwuw/lib/python3.6/site-packages/tensorflow/python/framework/dtypes.py:525: FutureWarning: Passing (type, 1) or '1type' as a synonym of type is deprecated; in a future version of numpy, it will be understood as (type, (1,)) / '(1,)type'.\n",
      "  np_resource = np.dtype([(\"resource\", np.ubyte, 1)])\n",
      "/home/felipe/.local/share/virtualenvs/w266_final_project-K7oLnwuw/lib/python3.6/site-packages/tensorboard/compat/tensorflow_stub/dtypes.py:541: FutureWarning: Passing (type, 1) or '1type' as a synonym of type is deprecated; in a future version of numpy, it will be understood as (type, (1,)) / '(1,)type'.\n",
      "  _np_qint8 = np.dtype([(\"qint8\", np.int8, 1)])\n",
      "/home/felipe/.local/share/virtualenvs/w266_final_project-K7oLnwuw/lib/python3.6/site-packages/tensorboard/compat/tensorflow_stub/dtypes.py:542: FutureWarning: Passing (type, 1) or '1type' as a synonym of type is deprecated; in a future version of numpy, it will be understood as (type, (1,)) / '(1,)type'.\n",
      "  _np_quint8 = np.dtype([(\"quint8\", np.uint8, 1)])\n",
      "/home/felipe/.local/share/virtualenvs/w266_final_project-K7oLnwuw/lib/python3.6/site-packages/tensorboard/compat/tensorflow_stub/dtypes.py:543: FutureWarning: Passing (type, 1) or '1type' as a synonym of type is deprecated; in a future version of numpy, it will be understood as (type, (1,)) / '(1,)type'.\n",
      "  _np_qint16 = np.dtype([(\"qint16\", np.int16, 1)])\n",
      "/home/felipe/.local/share/virtualenvs/w266_final_project-K7oLnwuw/lib/python3.6/site-packages/tensorboard/compat/tensorflow_stub/dtypes.py:544: FutureWarning: Passing (type, 1) or '1type' as a synonym of type is deprecated; in a future version of numpy, it will be understood as (type, (1,)) / '(1,)type'.\n",
      "  _np_quint16 = np.dtype([(\"quint16\", np.uint16, 1)])\n",
      "/home/felipe/.local/share/virtualenvs/w266_final_project-K7oLnwuw/lib/python3.6/site-packages/tensorboard/compat/tensorflow_stub/dtypes.py:545: FutureWarning: Passing (type, 1) or '1type' as a synonym of type is deprecated; in a future version of numpy, it will be understood as (type, (1,)) / '(1,)type'.\n",
      "  _np_qint32 = np.dtype([(\"qint32\", np.int32, 1)])\n",
      "/home/felipe/.local/share/virtualenvs/w266_final_project-K7oLnwuw/lib/python3.6/site-packages/tensorboard/compat/tensorflow_stub/dtypes.py:550: FutureWarning: Passing (type, 1) or '1type' as a synonym of type is deprecated; in a future version of numpy, it will be understood as (type, (1,)) / '(1,)type'.\n",
      "  np_resource = np.dtype([(\"resource\", np.ubyte, 1)])\n"
     ]
    }
   ],
   "source": [
    "import sys, csv\n",
    "from modules.wordTokenizer import WordTokenizer\n",
    "from modules.charTokenizer import CharTokenizer\n",
    "from modules.LSTMCRFNetwork import LSTMCRFNetwork\n",
    "import numpy as np"
   ]
  },
  {
   "cell_type": "code",
   "execution_count": 2,
   "metadata": {},
   "outputs": [],
   "source": [
    "MAX_TEXTS = 1000000\n",
    "#Read product file\n",
    "texts, tags, brands = [], [], []\n",
    "with open(\"data/train_products.csv\", 'r') as f:\n",
    "    reader = csv.DictReader(f, fieldnames=[\"title\",\"brand\",\"tags\"])\n",
    "    count = 0\n",
    "    for row in reader:\n",
    "        #print(row)\n",
    "        count += 1\n",
    "        text, tag_set = row['title'], row['tags'].split(' ')[:-1]\n",
    "        texts.append(text)\n",
    "        tags.append(tag_set)\n",
    "        brands.append(row['brand'])\n",
    "        if count >= MAX_TEXTS:\n",
    "            break"
   ]
  },
  {
   "cell_type": "code",
   "execution_count": 3,
   "metadata": {},
   "outputs": [],
   "source": [
    "#Create training examples\n",
    "numSentences = len(texts)\n",
    "np.random.seed(0)\n",
    "training_examples = np.random.binomial(1, 0.7, numSentences)"
   ]
  },
  {
   "cell_type": "code",
   "execution_count": 4,
   "metadata": {},
   "outputs": [],
   "source": [
    "#Separate data in training and test\n",
    "trainData = []\n",
    "testData  = []\n",
    "\n",
    "nerLabels_train =[]\n",
    "nerLabels_test = []\n",
    "\n",
    "\n",
    "for example in range(numSentences):\n",
    "    if training_examples[example] == 1:\n",
    "        trainData.append(texts[example])\n",
    "        nerLabels_train.append(tags[example])\n",
    "    else:\n",
    "        testData.append(texts[example])\n",
    "        nerLabels_test.append(tags[example])"
   ]
  },
  {
   "cell_type": "code",
   "execution_count": 5,
   "metadata": {},
   "outputs": [],
   "source": [
    "#create subset of train data\n",
    "numTrainSentences = 1000\n",
    "\n",
    "trainData_tiny       = trainData[0:numTrainSentences]\n",
    "nerLabels_train_tiny = nerLabels_train[0:numTrainSentences]"
   ]
  },
  {
   "cell_type": "code",
   "execution_count": 6,
   "metadata": {},
   "outputs": [],
   "source": [
    "#Initiate network\n",
    "network = LSTMCRFNetwork()"
   ]
  },
  {
   "cell_type": "code",
   "execution_count": 7,
   "metadata": {},
   "outputs": [],
   "source": [
    "#Create tokenized sentences\n",
    "wordTokenizer = WordTokenizer(30,'models/word_tokenizer')\n",
    "wordTokenizer.load()\n",
    "data = wordTokenizer.tokenize(trainData_tiny)\n",
    "testData = wordTokenizer.tokenize(testData)"
   ]
  },
  {
   "cell_type": "code",
   "execution_count": 8,
   "metadata": {},
   "outputs": [
    {
     "name": "stdout",
     "output_type": "stream",
     "text": [
      "Getting labels...\n",
      "Getting labels...\n"
     ]
    }
   ],
   "source": [
    "#Generate pad labels for network\n",
    "labels = network.get_labels(nerLabels_train_tiny,wordTokenizer)\n",
    "testLabels = network.get_labels(nerLabels_test,wordTokenizer)"
   ]
  },
  {
   "cell_type": "code",
   "execution_count": 9,
   "metadata": {},
   "outputs": [
    {
     "name": "stdout",
     "output_type": "stream",
     "text": [
      "Loading spanish embedding...\n"
     ]
    },
    {
     "name": "stderr",
     "output_type": "stream",
     "text": [
      "WARNING: Logging before flag parsing goes to stderr.\n",
      "W0802 04:51:12.679719 140025069836096 deprecation_wrapper.py:119] From /home/felipe/.local/share/virtualenvs/w266_final_project-K7oLnwuw/lib/python3.6/site-packages/keras/backend/tensorflow_backend.py:74: The name tf.get_default_graph is deprecated. Please use tf.compat.v1.get_default_graph instead.\n",
      "\n",
      "W0802 04:51:12.702478 140025069836096 deprecation_wrapper.py:119] From /home/felipe/.local/share/virtualenvs/w266_final_project-K7oLnwuw/lib/python3.6/site-packages/keras/backend/tensorflow_backend.py:517: The name tf.placeholder is deprecated. Please use tf.compat.v1.placeholder instead.\n",
      "\n",
      "W0802 04:51:12.705120 140025069836096 deprecation_wrapper.py:119] From /home/felipe/.local/share/virtualenvs/w266_final_project-K7oLnwuw/lib/python3.6/site-packages/keras/backend/tensorflow_backend.py:4138: The name tf.random_uniform is deprecated. Please use tf.random.uniform instead.\n",
      "\n",
      "W0802 04:51:12.715055 140025069836096 deprecation_wrapper.py:119] From /home/felipe/.local/share/virtualenvs/w266_final_project-K7oLnwuw/lib/python3.6/site-packages/keras/backend/tensorflow_backend.py:174: The name tf.get_default_session is deprecated. Please use tf.compat.v1.get_default_session instead.\n",
      "\n",
      "W0802 04:51:12.715990 140025069836096 deprecation_wrapper.py:119] From /home/felipe/.local/share/virtualenvs/w266_final_project-K7oLnwuw/lib/python3.6/site-packages/keras/backend/tensorflow_backend.py:181: The name tf.ConfigProto is deprecated. Please use tf.compat.v1.ConfigProto instead.\n",
      "\n"
     ]
    },
    {
     "name": "stdout",
     "output_type": "stream",
     "text": [
      "Found 855381 word vectors.\n",
      "Creating embedding layer...\n",
      "Creating network...\n"
     ]
    },
    {
     "name": "stderr",
     "output_type": "stream",
     "text": [
      "W0802 04:51:16.408431 140025069836096 deprecation.py:323] From /home/felipe/.local/share/virtualenvs/w266_final_project-K7oLnwuw/lib/python3.6/site-packages/keras/backend/tensorflow_backend.py:2974: add_dispatch_support.<locals>.wrapper (from tensorflow.python.ops.array_ops) is deprecated and will be removed in a future version.\n",
      "Instructions for updating:\n",
      "Use tf.where in 2.0, which has the same broadcast rule as np.where\n",
      "/home/felipe/.local/share/virtualenvs/w266_final_project-K7oLnwuw/lib/python3.6/site-packages/keras_contrib/layers/crf.py:346: UserWarning: CRF.loss_function is deprecated and it might be removed in the future. Please use losses.crf_loss instead.\n",
      "  warnings.warn('CRF.loss_function is deprecated '\n",
      "/home/felipe/.local/share/virtualenvs/w266_final_project-K7oLnwuw/lib/python3.6/site-packages/keras_contrib/layers/crf.py:353: UserWarning: CRF.accuracy is deprecated and it might be removed in the future. Please use metrics.crf_accuracy\n",
      "  warnings.warn('CRF.accuracy is deprecated and it '\n",
      "W0802 04:51:17.104791 140025069836096 deprecation_wrapper.py:119] From /home/felipe/.local/share/virtualenvs/w266_final_project-K7oLnwuw/lib/python3.6/site-packages/keras/optimizers.py:790: The name tf.train.Optimizer is deprecated. Please use tf.compat.v1.train.Optimizer instead.\n",
      "\n"
     ]
    },
    {
     "name": "stdout",
     "output_type": "stream",
     "text": [
      "Compiling network...\n",
      "Training...\n",
      "Train on 500 samples, validate on 500 samples\n",
      "Epoch 1/8\n",
      "500/500 [==============================] - 7s 14ms/step - loss: 5.6283 - crf_viterbi_accuracy: 0.7057 - val_loss: 5.4915 - val_crf_viterbi_accuracy: 0.7849\n",
      "\n",
      "Epoch 00001: saving model to models/lstmCRF.h5\n",
      "Epoch 2/8\n",
      "500/500 [==============================] - 4s 8ms/step - loss: 5.4231 - crf_viterbi_accuracy: 0.7979 - val_loss: 5.3973 - val_crf_viterbi_accuracy: 0.7898\n",
      "\n",
      "Epoch 00002: saving model to models/lstmCRF.h5\n",
      "Epoch 3/8\n",
      "500/500 [==============================] - 4s 8ms/step - loss: 5.3397 - crf_viterbi_accuracy: 0.8185 - val_loss: 5.3412 - val_crf_viterbi_accuracy: 0.8207\n",
      "\n",
      "Epoch 00003: saving model to models/lstmCRF.h5\n",
      "Epoch 4/8\n",
      "500/500 [==============================] - 4s 8ms/step - loss: 5.2757 - crf_viterbi_accuracy: 0.8410 - val_loss: 5.2952 - val_crf_viterbi_accuracy: 0.8388\n",
      "\n",
      "Epoch 00004: saving model to models/lstmCRF.h5\n",
      "Epoch 5/8\n",
      "500/500 [==============================] - 4s 9ms/step - loss: 5.2169 - crf_viterbi_accuracy: 0.8575 - val_loss: 5.2551 - val_crf_viterbi_accuracy: 0.8475\n",
      "\n",
      "Epoch 00005: saving model to models/lstmCRF.h5\n",
      "Epoch 6/8\n",
      "500/500 [==============================] - 4s 8ms/step - loss: 5.1595 - crf_viterbi_accuracy: 0.8683 - val_loss: 5.2187 - val_crf_viterbi_accuracy: 0.8512\n",
      "\n",
      "Epoch 00006: saving model to models/lstmCRF.h5\n",
      "Epoch 7/8\n",
      "500/500 [==============================] - 4s 8ms/step - loss: 5.1008 - crf_viterbi_accuracy: 0.8841 - val_loss: 5.1803 - val_crf_viterbi_accuracy: 0.8617\n",
      "\n",
      "Epoch 00007: saving model to models/lstmCRF.h5\n",
      "Epoch 8/8\n",
      "500/500 [==============================] - 4s 8ms/step - loss: 5.0403 - crf_viterbi_accuracy: 0.9008 - val_loss: 5.1391 - val_crf_viterbi_accuracy: 0.8726\n",
      "\n",
      "Epoch 00008: saving model to models/lstmCRF.h5\n"
     ]
    }
   ],
   "source": [
    "network.compile(wordTokenizer)\n",
    "network.train(data, labels, epochs=8, validation_split=0.5, batch_size=32)"
   ]
  },
  {
   "cell_type": "code",
   "execution_count": 10,
   "metadata": {},
   "outputs": [
    {
     "name": "stdout",
     "output_type": "stream",
     "text": [
      "Evaluating...\n",
      "18558/18558 [==============================] - 6s 318us/step\n",
      "              precision    recall  f1-score   support\n",
      "\n",
      "           O   0.981298  0.992244  0.986741    532625\n",
      "         B-B   0.700469  0.587279  0.638899     18584\n",
      "         I-B   0.839568  0.393600  0.535943      5531\n",
      "\n",
      "    accuracy                       0.972779    556740\n",
      "   macro avg   0.840445  0.657708  0.720528    556740\n",
      "weighted avg   0.970516  0.972779  0.970651    556740\n",
      "\n"
     ]
    }
   ],
   "source": [
    "network.evaluate(testData,testLabels)"
   ]
  }
 ],
 "metadata": {
  "kernelspec": {
   "display_name": "w266-env",
   "language": "python",
   "name": "w266-env"
  },
  "language_info": {
   "codemirror_mode": {
    "name": "ipython",
    "version": 3
   },
   "file_extension": ".py",
   "mimetype": "text/x-python",
   "name": "python",
   "nbconvert_exporter": "python",
   "pygments_lexer": "ipython3",
   "version": "3.6.8"
  }
 },
 "nbformat": 4,
 "nbformat_minor": 2
}
