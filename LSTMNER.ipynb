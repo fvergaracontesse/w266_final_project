{
 "cells": [
  {
   "cell_type": "code",
   "execution_count": 1,
   "metadata": {
    "scrolled": true
   },
   "outputs": [
    {
     "name": "stderr",
     "output_type": "stream",
     "text": [
      "Using TensorFlow backend.\n",
      "/home/felipe/.local/share/virtualenvs/w266_final_project-K7oLnwuw/lib/python3.6/site-packages/tensorflow/python/framework/dtypes.py:516: FutureWarning: Passing (type, 1) or '1type' as a synonym of type is deprecated; in a future version of numpy, it will be understood as (type, (1,)) / '(1,)type'.\n",
      "  _np_qint8 = np.dtype([(\"qint8\", np.int8, 1)])\n",
      "/home/felipe/.local/share/virtualenvs/w266_final_project-K7oLnwuw/lib/python3.6/site-packages/tensorflow/python/framework/dtypes.py:517: FutureWarning: Passing (type, 1) or '1type' as a synonym of type is deprecated; in a future version of numpy, it will be understood as (type, (1,)) / '(1,)type'.\n",
      "  _np_quint8 = np.dtype([(\"quint8\", np.uint8, 1)])\n",
      "/home/felipe/.local/share/virtualenvs/w266_final_project-K7oLnwuw/lib/python3.6/site-packages/tensorflow/python/framework/dtypes.py:518: FutureWarning: Passing (type, 1) or '1type' as a synonym of type is deprecated; in a future version of numpy, it will be understood as (type, (1,)) / '(1,)type'.\n",
      "  _np_qint16 = np.dtype([(\"qint16\", np.int16, 1)])\n",
      "/home/felipe/.local/share/virtualenvs/w266_final_project-K7oLnwuw/lib/python3.6/site-packages/tensorflow/python/framework/dtypes.py:519: FutureWarning: Passing (type, 1) or '1type' as a synonym of type is deprecated; in a future version of numpy, it will be understood as (type, (1,)) / '(1,)type'.\n",
      "  _np_quint16 = np.dtype([(\"quint16\", np.uint16, 1)])\n",
      "/home/felipe/.local/share/virtualenvs/w266_final_project-K7oLnwuw/lib/python3.6/site-packages/tensorflow/python/framework/dtypes.py:520: FutureWarning: Passing (type, 1) or '1type' as a synonym of type is deprecated; in a future version of numpy, it will be understood as (type, (1,)) / '(1,)type'.\n",
      "  _np_qint32 = np.dtype([(\"qint32\", np.int32, 1)])\n",
      "/home/felipe/.local/share/virtualenvs/w266_final_project-K7oLnwuw/lib/python3.6/site-packages/tensorflow/python/framework/dtypes.py:525: FutureWarning: Passing (type, 1) or '1type' as a synonym of type is deprecated; in a future version of numpy, it will be understood as (type, (1,)) / '(1,)type'.\n",
      "  np_resource = np.dtype([(\"resource\", np.ubyte, 1)])\n",
      "/home/felipe/.local/share/virtualenvs/w266_final_project-K7oLnwuw/lib/python3.6/site-packages/tensorboard/compat/tensorflow_stub/dtypes.py:541: FutureWarning: Passing (type, 1) or '1type' as a synonym of type is deprecated; in a future version of numpy, it will be understood as (type, (1,)) / '(1,)type'.\n",
      "  _np_qint8 = np.dtype([(\"qint8\", np.int8, 1)])\n",
      "/home/felipe/.local/share/virtualenvs/w266_final_project-K7oLnwuw/lib/python3.6/site-packages/tensorboard/compat/tensorflow_stub/dtypes.py:542: FutureWarning: Passing (type, 1) or '1type' as a synonym of type is deprecated; in a future version of numpy, it will be understood as (type, (1,)) / '(1,)type'.\n",
      "  _np_quint8 = np.dtype([(\"quint8\", np.uint8, 1)])\n",
      "/home/felipe/.local/share/virtualenvs/w266_final_project-K7oLnwuw/lib/python3.6/site-packages/tensorboard/compat/tensorflow_stub/dtypes.py:543: FutureWarning: Passing (type, 1) or '1type' as a synonym of type is deprecated; in a future version of numpy, it will be understood as (type, (1,)) / '(1,)type'.\n",
      "  _np_qint16 = np.dtype([(\"qint16\", np.int16, 1)])\n",
      "/home/felipe/.local/share/virtualenvs/w266_final_project-K7oLnwuw/lib/python3.6/site-packages/tensorboard/compat/tensorflow_stub/dtypes.py:544: FutureWarning: Passing (type, 1) or '1type' as a synonym of type is deprecated; in a future version of numpy, it will be understood as (type, (1,)) / '(1,)type'.\n",
      "  _np_quint16 = np.dtype([(\"quint16\", np.uint16, 1)])\n",
      "/home/felipe/.local/share/virtualenvs/w266_final_project-K7oLnwuw/lib/python3.6/site-packages/tensorboard/compat/tensorflow_stub/dtypes.py:545: FutureWarning: Passing (type, 1) or '1type' as a synonym of type is deprecated; in a future version of numpy, it will be understood as (type, (1,)) / '(1,)type'.\n",
      "  _np_qint32 = np.dtype([(\"qint32\", np.int32, 1)])\n",
      "/home/felipe/.local/share/virtualenvs/w266_final_project-K7oLnwuw/lib/python3.6/site-packages/tensorboard/compat/tensorflow_stub/dtypes.py:550: FutureWarning: Passing (type, 1) or '1type' as a synonym of type is deprecated; in a future version of numpy, it will be understood as (type, (1,)) / '(1,)type'.\n",
      "  np_resource = np.dtype([(\"resource\", np.ubyte, 1)])\n"
     ]
    }
   ],
   "source": [
    "import sys, csv\n",
    "from modules.wordTokenizer import WordTokenizer\n",
    "from modules.LSTMNetwork import LSTMNetwork\n",
    "from modules.baseline import Baseline\n",
    "import numpy as np\n",
    "import pandas as pd"
   ]
  },
  {
   "cell_type": "code",
   "execution_count": 2,
   "metadata": {},
   "outputs": [],
   "source": [
    "MAX_TEXTS = 1000000"
   ]
  },
  {
   "cell_type": "code",
   "execution_count": 13,
   "metadata": {},
   "outputs": [],
   "source": [
    "#Read product file\n",
    "texts, tags, brands = [], [], []\n",
    "with open(\"data/train_products.csv\", 'r') as f:\n",
    "    reader = csv.DictReader(f, fieldnames=[\"title\",\"brand\",\"tags\"])\n",
    "    count = 0\n",
    "    for row in reader:\n",
    "        #print(row)\n",
    "        count += 1\n",
    "        text, tag_set = row['title'], row['tags'].split(' ')[:-1]\n",
    "        texts.append(text)\n",
    "        tags.append(tag_set)\n",
    "        brands.append(row['brand'])\n",
    "        if count >= MAX_TEXTS:\n",
    "            break"
   ]
  },
  {
   "cell_type": "code",
   "execution_count": 14,
   "metadata": {},
   "outputs": [],
   "source": [
    "#Create training examples\n",
    "numSentences = len(texts)\n",
    "np.random.seed(0)\n",
    "training_examples = np.random.binomial(1, 0.7, numSentences)"
   ]
  },
  {
   "cell_type": "code",
   "execution_count": 15,
   "metadata": {},
   "outputs": [],
   "source": [
    "#Separate data in training and test\n",
    "trainData = []\n",
    "testData  = []\n",
    "\n",
    "nerLabels_train =[]\n",
    "nerLabels_test = []\n",
    "\n",
    "\n",
    "for example in range(numSentences):\n",
    "    if training_examples[example] == 1:\n",
    "        trainData.append(texts[example])\n",
    "        nerLabels_train.append(tags[example])\n",
    "    else:\n",
    "        testData.append(texts[example])\n",
    "        nerLabels_test.append(tags[example])"
   ]
  },
  {
   "cell_type": "code",
   "execution_count": 7,
   "metadata": {},
   "outputs": [
    {
     "data": {
      "text/plain": [
       "43626"
      ]
     },
     "execution_count": 7,
     "metadata": {},
     "output_type": "execute_result"
    }
   ],
   "source": [
    "len(trainData)"
   ]
  },
  {
   "cell_type": "code",
   "execution_count": 16,
   "metadata": {},
   "outputs": [],
   "source": [
    "#create subset of train data\n",
    "numTrainSentences = 40000\n",
    "\n",
    "trainData_tiny       = trainData[0:numTrainSentences]\n",
    "nerLabels_train_tiny = nerLabels_train[0:numTrainSentences]"
   ]
  },
  {
   "cell_type": "code",
   "execution_count": 13,
   "metadata": {},
   "outputs": [
    {
     "data": {
      "text/plain": [
       "20000"
      ]
     },
     "execution_count": 13,
     "metadata": {},
     "output_type": "execute_result"
    }
   ],
   "source": [
    "len(trainData_tiny)"
   ]
  },
  {
   "cell_type": "code",
   "execution_count": 17,
   "metadata": {},
   "outputs": [],
   "source": [
    "#Initiate network\n",
    "network = LSTMNetwork()"
   ]
  },
  {
   "cell_type": "code",
   "execution_count": 18,
   "metadata": {},
   "outputs": [],
   "source": [
    "#Create tokenized sentences\n",
    "wordTokenizer = WordTokenizer(30,'models/word_tokenizer')\n",
    "wordTokenizer.load()\n",
    "data = wordTokenizer.tokenize(trainData_tiny)\n",
    "testData = wordTokenizer.tokenize(testData)"
   ]
  },
  {
   "cell_type": "code",
   "execution_count": 19,
   "metadata": {},
   "outputs": [
    {
     "name": "stdout",
     "output_type": "stream",
     "text": [
      "Getting labels...\n",
      "Getting labels...\n"
     ]
    }
   ],
   "source": [
    "#Generate pad labels for network\n",
    "labels = network.get_labels(nerLabels_train_tiny,wordTokenizer)\n",
    "testLabels = network.get_labels(nerLabels_test,wordTokenizer)"
   ]
  },
  {
   "cell_type": "code",
   "execution_count": 20,
   "metadata": {
    "scrolled": true
   },
   "outputs": [
    {
     "name": "stdout",
     "output_type": "stream",
     "text": [
      "Loading spanish embedding...\n",
      "Found 855381 word vectors.\n",
      "Creating embedding layer...\n",
      "Creating network...\n",
      "{'O': 1, 'B-B': 2, 'I-B': 3}\n",
      "Compiling network...\n",
      "Training...\n",
      "(40000, 30) (40000, 30, 3)\n",
      "Train on 32000 samples, validate on 8000 samples\n",
      "Epoch 1/8\n",
      "32000/32000 [==============================] - 130s 4ms/step - loss: 0.2998 - acc: 0.8910 - val_loss: 0.1657 - val_acc: 0.9441\n",
      "\n",
      "Epoch 00001: saving model to models/lstm.h5\n",
      "Epoch 2/8\n",
      "32000/32000 [==============================] - 126s 4ms/step - loss: 0.1771 - acc: 0.9381 - val_loss: 0.1342 - val_acc: 0.9523\n",
      "\n",
      "Epoch 00002: saving model to models/lstm.h5\n",
      "Epoch 3/8\n",
      "32000/32000 [==============================] - 124s 4ms/step - loss: 0.1492 - acc: 0.9471 - val_loss: 0.1172 - val_acc: 0.9590\n",
      "\n",
      "Epoch 00003: saving model to models/lstm.h5\n",
      "Epoch 4/8\n",
      "32000/32000 [==============================] - 125s 4ms/step - loss: 0.1331 - acc: 0.9525 - val_loss: 0.1081 - val_acc: 0.9618\n",
      "\n",
      "Epoch 00004: saving model to models/lstm.h5\n",
      "Epoch 5/8\n",
      "32000/32000 [==============================] - 124s 4ms/step - loss: 0.1225 - acc: 0.9562 - val_loss: 0.1009 - val_acc: 0.9644\n",
      "\n",
      "Epoch 00005: saving model to models/lstm.h5\n",
      "Epoch 6/8\n",
      "32000/32000 [==============================] - 124s 4ms/step - loss: 0.1132 - acc: 0.9595 - val_loss: 0.0978 - val_acc: 0.9662\n",
      "\n",
      "Epoch 00006: saving model to models/lstm.h5\n",
      "Epoch 7/8\n",
      "32000/32000 [==============================] - 127s 4ms/step - loss: 0.1080 - acc: 0.9607 - val_loss: 0.0954 - val_acc: 0.9668\n",
      "\n",
      "Epoch 00007: saving model to models/lstm.h5\n",
      "Epoch 8/8\n",
      "32000/32000 [==============================] - 124s 4ms/step - loss: 0.1021 - acc: 0.9631 - val_loss: 0.0920 - val_acc: 0.9683\n",
      "\n",
      "Epoch 00008: saving model to models/lstm.h5\n"
     ]
    }
   ],
   "source": [
    "network.compile(wordTokenizer)\n",
    "network.train(data, labels, epochs=8, validation_split=0.2, batch_size=32)"
   ]
  },
  {
   "cell_type": "code",
   "execution_count": 22,
   "metadata": {},
   "outputs": [
    {
     "name": "stdout",
     "output_type": "stream",
     "text": [
      "Evaluating...\n",
      "18558/18558 [==============================] - 3s 180us/step\n",
      "[0 0 0 ... 0 0 0]\n",
      "              precision    recall  f1-score   support\n",
      "\n",
      "           O   0.996163  0.993797  0.994978    532625\n",
      "         B-B   0.839596  0.895663  0.866724     18584\n",
      "         I-B   0.939514  0.943591  0.941548      5531\n",
      "\n",
      "    accuracy                       0.990022    556740\n",
      "   macro avg   0.925091  0.944350  0.934417    556740\n",
      "weighted avg   0.990374  0.990022  0.990166    556740\n",
      "\n"
     ]
    }
   ],
   "source": [
    "network.evaluate(testData,testLabels)"
   ]
  },
  {
   "cell_type": "code",
   "execution_count": null,
   "metadata": {},
   "outputs": [],
   "source": [
    "x = [500, 16000, 32000]\n",
    "y = []"
   ]
  }
 ],
 "metadata": {
  "kernelspec": {
   "display_name": "w266-env",
   "language": "python",
   "name": "w266-env"
  },
  "language_info": {
   "codemirror_mode": {
    "name": "ipython",
    "version": 3
   },
   "file_extension": ".py",
   "mimetype": "text/x-python",
   "name": "python",
   "nbconvert_exporter": "python",
   "pygments_lexer": "ipython3",
   "version": "3.6.8"
  }
 },
 "nbformat": 4,
 "nbformat_minor": 2
}
